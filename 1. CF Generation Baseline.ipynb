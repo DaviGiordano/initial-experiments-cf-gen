{
 "cells": [
  {
   "cell_type": "code",
   "execution_count": null,
   "metadata": {},
   "outputs": [],
   "source": [
    "from sklearn.preprocessing import MinMaxScaler\n",
    "from sklearn.metrics import DistanceMetric\n",
    "from sklearn.metrics.pairwise import cosine_distances\n",
    "import matplotlib.pylab as plt\n",
    "import seaborn as sns\n",
    "import pandas as pd\n",
    "import umap\n",
    "\n",
    "%load_ext autoreload\n",
    "%autoreload 2"
   ]
  },
  {
   "cell_type": "markdown",
   "metadata": {},
   "source": [
    "# 1. Read data"
   ]
  },
  {
   "cell_type": "code",
   "execution_count": 2,
   "metadata": {},
   "outputs": [],
   "source": [
    "df_train_raw = pd.read_csv('./data/transformed/adult_train.csv',\n",
    "                    sep=',',\n",
    "                    engine='python')\n",
    "\n",
    "df_test_raw = pd.read_csv('./data/transformed/adult_test.csv',\n",
    "                    sep=',',\n",
    "                    engine='python')"
   ]
  },
  {
   "cell_type": "markdown",
   "metadata": {},
   "source": [
    "# 2. Generate counterfactuals\n",
    "- Baseline: just flip gender attribute"
   ]
  },
  {
   "cell_type": "code",
   "execution_count": 3,
   "metadata": {},
   "outputs": [],
   "source": [
    "def generate_cf_baseline(df):\n",
    "    df_copy = df.copy()\n",
    "    df_copy['sex'] = df_copy['sex'].replace({'Male': 'Female', 'Female': 'Male'})\n",
    "    return df_copy\n",
    "\n",
    "df_cf_train_raw = generate_cf_baseline(df_train_raw)\n",
    "df_cf_test_raw = generate_cf_baseline(df_test_raw)"
   ]
  },
  {
   "cell_type": "code",
   "execution_count": 4,
   "metadata": {},
   "outputs": [],
   "source": [
    "# Assert the sex column has been swapped successfully \n",
    "assert (df_cf_train_raw['sex'] == df_train_raw['sex'].replace({'Male': 'Female', 'Female': 'Male'})).all(), \"Sex column swap failed for train data.\"\n",
    "assert (df_cf_test_raw['sex'] == df_test_raw['sex'].replace({'Male': 'Female', 'Female': 'Male'})).all(), \"Sex column swap failed for test data.\""
   ]
  },
  {
   "cell_type": "markdown",
   "metadata": {},
   "source": [
    "# 3. Transform data"
   ]
  },
  {
   "cell_type": "code",
   "execution_count": 16,
   "metadata": {},
   "outputs": [],
   "source": [
    "class DataPreprocessor:\n",
    "    def __init__(self, numerical_cols, categorical_cols):\n",
    "        self.numerical_cols = numerical_cols\n",
    "        self.categorical_cols = categorical_cols\n",
    "        self.scaler = MinMaxScaler()\n",
    "\n",
    "    def preprocess(self, df):\n",
    "        df[self.numerical_cols] = self.scaler.fit_transform(df[self.numerical_cols])\n",
    "        new_dummy_cols = pd.get_dummies(df, columns=self.categorical_cols).columns.difference(df.columns)\n",
    "        df = pd.get_dummies(df, columns=self.categorical_cols)\n",
    "        df[new_dummy_cols] = df[new_dummy_cols].astype(int)\n",
    "        return df\n",
    "\n",
    "    def inverse_preprocess(self, df):\n",
    "        # Reverse one-hot encoding\n",
    "        for col in self.categorical_cols:\n",
    "            one_hot_cols = [c for c in df.columns if c.startswith(col + '_')]\n",
    "            df[col] = df[one_hot_cols].idxmax(axis=1).apply(lambda x: x[len(col) + 1:])\n",
    "            df.drop(columns=one_hot_cols, inplace=True)\n",
    "        \n",
    "        df[self.numerical_cols] = self.scaler.inverse_transform(df[self.numerical_cols])\n",
    "        return df\n",
    "\n",
    "categorical_cols = df_train_raw.select_dtypes(include=['object']).columns.tolist()\n",
    "numerical_cols = df_train_raw.select_dtypes(exclude=['object']).columns.tolist()\n",
    "\n",
    "preprocessor = DataPreprocessor(numerical_cols, categorical_cols)\n",
    "\n",
    "df_test = preprocessor.preprocess(df_test_raw)\n",
    "df_train = preprocessor.preprocess(df_train_raw)\n",
    "df_cf_train = preprocessor.preprocess(df_cf_train_raw)\n",
    "df_cf_test = preprocessor.preprocess(df_cf_test_raw)"
   ]
  },
  {
   "cell_type": "markdown",
   "metadata": {},
   "source": [
    "# 4. Evaluate counterfactuals"
   ]
  },
  {
   "cell_type": "markdown",
   "metadata": {},
   "source": [
    "## 4.1 Calculate distance from original samples"
   ]
  },
  {
   "cell_type": "code",
   "execution_count": 22,
   "metadata": {},
   "outputs": [
    {
     "ename": "",
     "evalue": "",
     "output_type": "error",
     "traceback": [
      "\u001b[1;31mThe Kernel crashed while executing code in the current cell or a previous cell. \n",
      "\u001b[1;31mPlease review the code in the cell(s) to identify a possible cause of the failure. \n",
      "\u001b[1;31mClick <a href='https://aka.ms/vscodeJupyterKernelCrash'>here</a> for more info. \n",
      "\u001b[1;31mView Jupyter <a href='command:jupyter.viewOutput'>log</a> for further details."
     ]
    }
   ],
   "source": [
    "from utils.distance import calculate_pairwise_distance\n",
    "\n",
    "euclidean_distance = calculate_pairwise_distance(df_train, df_cf_train, 'euclidean')\n",
    "manhattan_distance = calculate_pairwise_distance(df_train, df_cf_train, 'manhattan')\n",
    "chebyshev_distance = calculate_pairwise_distance(df_train, df_cf_train, 'chebyshev')\n",
    "cosine_distance = calculate_pairwise_distance(df_train, df_cf_train, 'cosine')"
   ]
  },
  {
   "cell_type": "code",
   "execution_count": 13,
   "metadata": {},
   "outputs": [
    {
     "data": {
      "text/plain": [
       "array([0., 0., 0., ..., 0., 0., 0.])"
      ]
     },
     "execution_count": 13,
     "metadata": {},
     "output_type": "execute_result"
    }
   ],
   "source": [
    "euclidean_distance"
   ]
  },
  {
   "cell_type": "code",
   "execution_count": null,
   "metadata": {},
   "outputs": [
    {
     "data": {
      "text/plain": [
       "<Axes: >"
      ]
     },
     "execution_count": 12,
     "metadata": {},
     "output_type": "execute_result"
    },
    {
     "data": {
      "image/png": "[encoded data removed]",
      "text/plain": [
       "<Figure size 640x480 with 1 Axes>"
      ]
     },
     "metadata": {},
     "output_type": "display_data"
    }
   ],
   "source": [
    "sns.boxplot(euclidean_distance)\n",
    "# sns.histplot(chebyshev_distance, bins=50, kde=True)\n",
    "# sns.histplot(cosine_distance, bins=50, kde=True)"
   ]
  },
  {
   "cell_type": "code",
   "execution_count": null,
   "metadata": {},
   "outputs": [],
   "source": []
  }
 ],
 "metadata": {
  "kernelspec": {
   "display_name": "sandbox",
   "language": "python",
   "name": "python3"
  },
  "language_info": {
   "codemirror_mode": {
    "name": "ipython",
    "version": 3
   },
   "file_extension": ".py",
   "mimetype": "text/x-python",
   "name": "python",
   "nbconvert_exporter": "python",
   "pygments_lexer": "ipython3",
   "version": "3.10.13"
  }
 },
 "nbformat": 4,
 "nbformat_minor": 2
}
